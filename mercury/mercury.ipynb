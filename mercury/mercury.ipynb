{
 "cells": [
  {
   "cell_type": "code",
   "execution_count": 1,
   "id": "4c788549-8a1e-4e57-a70d-9f041b6f476d",
   "metadata": {},
   "outputs": [
    {
     "ename": "AttributeError",
     "evalue": "module 'mercury' has no attribute 'RangeSlider'",
     "output_type": "error",
     "traceback": [
      "\u001b[0;31m---------------------------------------------------------------------------\u001b[0m",
      "\u001b[0;31mAttributeError\u001b[0m                            Traceback (most recent call last)",
      "Cell \u001b[0;32mIn[1], line 19\u001b[0m\n\u001b[1;32m     12\u001b[0m df \u001b[38;5;241m=\u001b[39m pd\u001b[38;5;241m.\u001b[39mDataFrame({\n\u001b[1;32m     13\u001b[0m     \u001b[38;5;124m'\u001b[39m\u001b[38;5;124mYear\u001b[39m\u001b[38;5;124m'\u001b[39m: years,\n\u001b[1;32m     14\u001b[0m     \u001b[38;5;124m'\u001b[39m\u001b[38;5;124mGlobal\u001b[39m\u001b[38;5;124m'\u001b[39m: co2_global,\n\u001b[1;32m     15\u001b[0m     \u001b[38;5;124m'\u001b[39m\u001b[38;5;124mPer Capita\u001b[39m\u001b[38;5;124m'\u001b[39m: co2_per_capita\n\u001b[1;32m     16\u001b[0m })\n\u001b[1;32m     18\u001b[0m \u001b[38;5;66;03m# Create Mercury widgets\u001b[39;00m\n\u001b[0;32m---> 19\u001b[0m year_range \u001b[38;5;241m=\u001b[39m \u001b[43mmr\u001b[49m\u001b[38;5;241;43m.\u001b[39;49m\u001b[43mRangeSlider\u001b[49m(label\u001b[38;5;241m=\u001b[39m\u001b[38;5;124m\"\u001b[39m\u001b[38;5;124mYear Range\u001b[39m\u001b[38;5;124m\"\u001b[39m, value\u001b[38;5;241m=\u001b[39m(\u001b[38;5;241m1950\u001b[39m, \u001b[38;5;241m2024\u001b[39m), \u001b[38;5;28mmin\u001b[39m\u001b[38;5;241m=\u001b[39m\u001b[38;5;241m1950\u001b[39m, \u001b[38;5;28mmax\u001b[39m\u001b[38;5;241m=\u001b[39m\u001b[38;5;241m2024\u001b[39m)\n\u001b[1;32m     20\u001b[0m emission_type \u001b[38;5;241m=\u001b[39m mr\u001b[38;5;241m.\u001b[39mSelect(label\u001b[38;5;241m=\u001b[39m\u001b[38;5;124m\"\u001b[39m\u001b[38;5;124mEmission Type\u001b[39m\u001b[38;5;124m\"\u001b[39m, value\u001b[38;5;241m=\u001b[39m\u001b[38;5;124m\"\u001b[39m\u001b[38;5;124mGlobal\u001b[39m\u001b[38;5;124m\"\u001b[39m, choices\u001b[38;5;241m=\u001b[39m[\u001b[38;5;124m\"\u001b[39m\u001b[38;5;124mGlobal\u001b[39m\u001b[38;5;124m\"\u001b[39m, \u001b[38;5;124m\"\u001b[39m\u001b[38;5;124mPer Capita\u001b[39m\u001b[38;5;124m\"\u001b[39m])\n\u001b[1;32m     22\u001b[0m \u001b[38;5;66;03m# Create a function to update the plot\u001b[39;00m\n",
      "\u001b[0;31mAttributeError\u001b[0m: module 'mercury' has no attribute 'RangeSlider'"
     ]
    }
   ],
   "source": [
    "import mercury as mr\n",
    "import pandas as pd\n",
    "import matplotlib.pyplot as plt\n",
    "import numpy as np\n",
    "\n",
    "# Simulate data for CO2 emissions\n",
    "years = np.arange(1950, 2025)\n",
    "co2_global = np.random.uniform(5, 35, len(years))\n",
    "co2_per_capita = np.random.uniform(0.5, 5, len(years))\n",
    "\n",
    "# Create a DataFrame\n",
    "df = pd.DataFrame({\n",
    "    'Year': years,\n",
    "    'Global': co2_global,\n",
    "    'Per Capita': co2_per_capita\n",
    "})\n",
    "\n",
    "# Create Mercury widgets\n",
    "year_range = mr.RangeSlider(label=\"Year Range\", value=(1950, 2024), min=1950, max=2024)\n",
    "emission_type = mr.Select(label=\"Emission Type\", value=\"Global\", choices=[\"Global\", \"Per Capita\"])\n",
    "\n",
    "# Create a function to update the plot\n",
    "def update_plot():\n",
    "    filtered_df = df[(df['Year'] >= year_range.value[0]) & (df['Year'] <= year_range.value[1])]\n",
    "    \n",
    "    plt.figure(figsize=(12, 6))\n",
    "    plt.plot(filtered_df['Year'], filtered_df[emission_type.value])\n",
    "    plt.title(f\"Simulated CO2 Emissions - {emission_type.value}\")\n",
    "    plt.xlabel(\"Year\")\n",
    "    plt.ylabel(f\"CO2 Emissions ({'Gigatons' if emission_type.value == 'Global' else 'Tons per Capita'})\")\n",
    "    plt.grid(True)\n",
    "    plt.show()\n",
    "\n",
    "# Display the plot\n",
    "update_plot()\n",
    "\n",
    "# Add Mercury app configuration\n",
    "mr.App(title=\"Simulated CO2 Emissions Dashboard\", description=\"Interactive dashboard for simulated CO2 emissions data\")\n"
   ]
  },
  {
   "cell_type": "code",
   "execution_count": null,
   "id": "32847dfe-1df0-438d-8307-6e0d5e3225e2",
   "metadata": {},
   "outputs": [],
   "source": []
  },
  {
   "cell_type": "code",
   "execution_count": null,
   "id": "a76bb30a-b34a-4d11-a2c1-424887d129ac",
   "metadata": {},
   "outputs": [],
   "source": []
  },
  {
   "cell_type": "code",
   "execution_count": null,
   "id": "39ef980d-ab47-4295-ac11-d4dad158fce9",
   "metadata": {},
   "outputs": [],
   "source": []
  },
  {
   "cell_type": "code",
   "execution_count": null,
   "id": "91a548cf-4ce9-4fe5-94fd-d8eb334b6707",
   "metadata": {},
   "outputs": [],
   "source": []
  },
  {
   "cell_type": "code",
   "execution_count": null,
   "id": "53def717-7331-4f8e-8a3f-bcf612f826b5",
   "metadata": {},
   "outputs": [],
   "source": []
  },
  {
   "cell_type": "code",
   "execution_count": null,
   "id": "a9ff235d-2991-4253-a40e-8e4e938f1b5a",
   "metadata": {},
   "outputs": [],
   "source": []
  }
 ],
 "metadata": {
  "kernelspec": {
   "display_name": "Python 3 (ipykernel)",
   "language": "python",
   "name": "python3"
  },
  "language_info": {
   "codemirror_mode": {
    "name": "ipython",
    "version": 3
   },
   "file_extension": ".py",
   "mimetype": "text/x-python",
   "name": "python",
   "nbconvert_exporter": "python",
   "pygments_lexer": "ipython3",
   "version": "3.10.13"
  }
 },
 "nbformat": 4,
 "nbformat_minor": 5
}
